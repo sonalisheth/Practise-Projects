{
 "cells": [
  {
   "cell_type": "markdown",
   "id": "38ff9ea8",
   "metadata": {},
   "source": [
    "# Sales Channel Prediction Case Study  "
   ]
  },
  {
   "cell_type": "markdown",
   "id": "e93ab144",
   "metadata": {},
   "source": [
    "## The advertising dataset captures sales revenue generated with respect to advertisement spends across multiple channles like radio, tv and newspaper. "
   ]
  },
  {
   "cell_type": "markdown",
   "id": "a8f88b98",
   "metadata": {},
   "source": [
    "![tv](https://content.thriveglobal.com/wp-content/uploads/2021/05/marketing-campaign.jpg)"
   ]
  },
  {
   "cell_type": "markdown",
   "id": "09af67d6",
   "metadata": {},
   "source": [
    "### The distribution strategy and the channel design have to be right the first time. The case study of Sales channel includes the detailed study of TV, radio and newspaper channel. The predict the total sales generated from all the sales channel.  \n",
    "\n",
    "## Understanding Dataset\n",
    "\n",
    "## Features:\n",
    "\n",
    "    `TV: advertising dollars spent on TV for a single product in a given market (in thousands of dollars)\n",
    "    `Radio: advertising dollars spent on Radio\n",
    "    `Newspaper: advertising dollars spent on Newspaper\n",
    "## Target:\n",
    "\n",
    "    `Sales budget in thousands of dollars"
   ]
  },
  {
   "cell_type": "markdown",
   "id": "0d997dbb",
   "metadata": {},
   "source": [
    "# Importing Libraries"
   ]
  },
  {
   "cell_type": "code",
   "execution_count": 16,
   "id": "e7ec6d4b",
   "metadata": {},
   "outputs": [],
   "source": [
    "#Importing required packages.\n",
    "\n",
    "import pandas as pd\n",
    "import numpy as np\n",
    "\n",
    "#ploting libraries\n",
    "import matplotlib.pyplot as plt\n",
    "import seaborn as sns\n",
    "\n",
    "\n",
    "#feature engineering\n",
    "\n",
    "from sklearn.preprocessing import StandardScaler, LabelEncoder\n",
    "\n",
    "#train test split and #cross validation\n",
    "from sklearn.model_selection import train_test_split, GridSearchCV, cross_val_score\n",
    "from scipy.stats import zscore\n",
    "\n",
    "#metrics\n",
    "from sklearn.metrics import confusion_matrix, classification_report\n",
    "from sklearn.metrics import accuracy_score\n",
    "from sklearn.metrics import r2_score,mean_squared_error\n",
    "\n",
    "#ML models\n",
    "import sklearn\n",
    "from sklearn.ensemble import RandomForestClassifier\n",
    "from sklearn.svm import SVC\n",
    "from sklearn.linear_model import SGDClassifier\n",
    "from sklearn.linear_model import LinearRegression, Ridge, Lasso\n",
    "from sklearn.ensemble import RandomForestRegressor\n",
    "from sklearn.svm import SVR\n",
    "\n",
    "\n",
    "%matplotlib inline\n",
    "import warnings\n",
    "warnings.filterwarnings('ignore')"
   ]
  },
  {
   "cell_type": "markdown",
   "id": "0d8a72f0",
   "metadata": {},
   "source": [
    "# Importing Dataset and Data Information"
   ]
  },
  {
   "cell_type": "code",
   "execution_count": 2,
   "id": "5b0a82b3",
   "metadata": {},
   "outputs": [
    {
     "data": {
      "text/html": [
       "<div>\n",
       "<style scoped>\n",
       "    .dataframe tbody tr th:only-of-type {\n",
       "        vertical-align: middle;\n",
       "    }\n",
       "\n",
       "    .dataframe tbody tr th {\n",
       "        vertical-align: top;\n",
       "    }\n",
       "\n",
       "    .dataframe thead th {\n",
       "        text-align: right;\n",
       "    }\n",
       "</style>\n",
       "<table border=\"1\" class=\"dataframe\">\n",
       "  <thead>\n",
       "    <tr style=\"text-align: right;\">\n",
       "      <th></th>\n",
       "      <th>Unnamed: 0</th>\n",
       "      <th>TV</th>\n",
       "      <th>radio</th>\n",
       "      <th>newspaper</th>\n",
       "      <th>sales</th>\n",
       "    </tr>\n",
       "  </thead>\n",
       "  <tbody>\n",
       "    <tr>\n",
       "      <th>0</th>\n",
       "      <td>1</td>\n",
       "      <td>230.1</td>\n",
       "      <td>37.8</td>\n",
       "      <td>69.2</td>\n",
       "      <td>22.1</td>\n",
       "    </tr>\n",
       "    <tr>\n",
       "      <th>1</th>\n",
       "      <td>2</td>\n",
       "      <td>44.5</td>\n",
       "      <td>39.3</td>\n",
       "      <td>45.1</td>\n",
       "      <td>10.4</td>\n",
       "    </tr>\n",
       "    <tr>\n",
       "      <th>2</th>\n",
       "      <td>3</td>\n",
       "      <td>17.2</td>\n",
       "      <td>45.9</td>\n",
       "      <td>69.3</td>\n",
       "      <td>9.3</td>\n",
       "    </tr>\n",
       "    <tr>\n",
       "      <th>3</th>\n",
       "      <td>4</td>\n",
       "      <td>151.5</td>\n",
       "      <td>41.3</td>\n",
       "      <td>58.5</td>\n",
       "      <td>18.5</td>\n",
       "    </tr>\n",
       "    <tr>\n",
       "      <th>4</th>\n",
       "      <td>5</td>\n",
       "      <td>180.8</td>\n",
       "      <td>10.8</td>\n",
       "      <td>58.4</td>\n",
       "      <td>12.9</td>\n",
       "    </tr>\n",
       "  </tbody>\n",
       "</table>\n",
       "</div>"
      ],
      "text/plain": [
       "   Unnamed: 0     TV  radio  newspaper  sales\n",
       "0           1  230.1   37.8       69.2   22.1\n",
       "1           2   44.5   39.3       45.1   10.4\n",
       "2           3   17.2   45.9       69.3    9.3\n",
       "3           4  151.5   41.3       58.5   18.5\n",
       "4           5  180.8   10.8       58.4   12.9"
      ]
     },
     "execution_count": 2,
     "metadata": {},
     "output_type": "execute_result"
    }
   ],
   "source": [
    "#Loading dataset\n",
    "df=pd.read_csv('https://raw.githubusercontent.com/dsrscientist/DSData/master/Advertising.csv')\n",
    "\n",
    "#Let's check how the data is distributed\n",
    "df.head()"
   ]
  },
  {
   "cell_type": "markdown",
   "id": "74f9bd86",
   "metadata": {},
   "source": [
    "#### Reviewing Data Set at initial stage, found continous datatypes; Target variable data is sales which seems to represent regression problem"
   ]
  },
  {
   "cell_type": "code",
   "execution_count": 3,
   "id": "0c2ebae9",
   "metadata": {},
   "outputs": [
    {
     "name": "stdout",
     "output_type": "stream",
     "text": [
      "<class 'pandas.core.frame.DataFrame'>\n",
      "RangeIndex: 200 entries, 0 to 199\n",
      "Data columns (total 5 columns):\n",
      " #   Column      Non-Null Count  Dtype  \n",
      "---  ------      --------------  -----  \n",
      " 0   Unnamed: 0  200 non-null    int64  \n",
      " 1   TV          200 non-null    float64\n",
      " 2   radio       200 non-null    float64\n",
      " 3   newspaper   200 non-null    float64\n",
      " 4   sales       200 non-null    float64\n",
      "dtypes: float64(4), int64(1)\n",
      "memory usage: 7.9 KB\n"
     ]
    }
   ],
   "source": [
    "#Information about the data columns\n",
    "df.info()"
   ]
  },
  {
   "cell_type": "markdown",
   "id": "7771abe9",
   "metadata": {},
   "source": [
    "#### TV. radio, newspaper, sales are floating data columns; unnamed: 0 is integer data type columns"
   ]
  },
  {
   "cell_type": "code",
   "execution_count": 4,
   "id": "ced3390e",
   "metadata": {},
   "outputs": [
    {
     "data": {
      "text/plain": [
       "(200, 5)"
      ]
     },
     "execution_count": 4,
     "metadata": {},
     "output_type": "execute_result"
    }
   ],
   "source": [
    "# no. of rows and coloumns\n",
    "df.shape"
   ]
  },
  {
   "cell_type": "markdown",
   "id": "33cd57fb",
   "metadata": {},
   "source": [
    "#### There are 200 Rows and 5 Columns in Data Set"
   ]
  },
  {
   "cell_type": "code",
   "execution_count": 5,
   "id": "29057e5c",
   "metadata": {},
   "outputs": [
    {
     "data": {
      "text/plain": [
       "Unnamed: 0    0\n",
       "TV            0\n",
       "radio         0\n",
       "newspaper     0\n",
       "sales         0\n",
       "dtype: int64"
      ]
     },
     "execution_count": 5,
     "metadata": {},
     "output_type": "execute_result"
    }
   ],
   "source": [
    "# check for null values\n",
    "df.isnull().sum()"
   ]
  },
  {
   "cell_type": "markdown",
   "id": "c4f0a4d1",
   "metadata": {},
   "source": [
    "#### There are no null or missing values in data set"
   ]
  },
  {
   "cell_type": "code",
   "execution_count": 6,
   "id": "33d28562",
   "metadata": {},
   "outputs": [
    {
     "data": {
      "text/html": [
       "<div>\n",
       "<style scoped>\n",
       "    .dataframe tbody tr th:only-of-type {\n",
       "        vertical-align: middle;\n",
       "    }\n",
       "\n",
       "    .dataframe tbody tr th {\n",
       "        vertical-align: top;\n",
       "    }\n",
       "\n",
       "    .dataframe thead th {\n",
       "        text-align: right;\n",
       "    }\n",
       "</style>\n",
       "<table border=\"1\" class=\"dataframe\">\n",
       "  <thead>\n",
       "    <tr style=\"text-align: right;\">\n",
       "      <th></th>\n",
       "      <th>Unnamed: 0</th>\n",
       "      <th>TV</th>\n",
       "      <th>radio</th>\n",
       "      <th>newspaper</th>\n",
       "      <th>sales</th>\n",
       "    </tr>\n",
       "  </thead>\n",
       "  <tbody>\n",
       "    <tr>\n",
       "      <th>count</th>\n",
       "      <td>200.000000</td>\n",
       "      <td>200.000000</td>\n",
       "      <td>200.000000</td>\n",
       "      <td>200.000000</td>\n",
       "      <td>200.000000</td>\n",
       "    </tr>\n",
       "    <tr>\n",
       "      <th>mean</th>\n",
       "      <td>100.500000</td>\n",
       "      <td>147.042500</td>\n",
       "      <td>23.264000</td>\n",
       "      <td>30.554000</td>\n",
       "      <td>14.022500</td>\n",
       "    </tr>\n",
       "    <tr>\n",
       "      <th>std</th>\n",
       "      <td>57.879185</td>\n",
       "      <td>85.854236</td>\n",
       "      <td>14.846809</td>\n",
       "      <td>21.778621</td>\n",
       "      <td>5.217457</td>\n",
       "    </tr>\n",
       "    <tr>\n",
       "      <th>min</th>\n",
       "      <td>1.000000</td>\n",
       "      <td>0.700000</td>\n",
       "      <td>0.000000</td>\n",
       "      <td>0.300000</td>\n",
       "      <td>1.600000</td>\n",
       "    </tr>\n",
       "    <tr>\n",
       "      <th>25%</th>\n",
       "      <td>50.750000</td>\n",
       "      <td>74.375000</td>\n",
       "      <td>9.975000</td>\n",
       "      <td>12.750000</td>\n",
       "      <td>10.375000</td>\n",
       "    </tr>\n",
       "    <tr>\n",
       "      <th>50%</th>\n",
       "      <td>100.500000</td>\n",
       "      <td>149.750000</td>\n",
       "      <td>22.900000</td>\n",
       "      <td>25.750000</td>\n",
       "      <td>12.900000</td>\n",
       "    </tr>\n",
       "    <tr>\n",
       "      <th>75%</th>\n",
       "      <td>150.250000</td>\n",
       "      <td>218.825000</td>\n",
       "      <td>36.525000</td>\n",
       "      <td>45.100000</td>\n",
       "      <td>17.400000</td>\n",
       "    </tr>\n",
       "    <tr>\n",
       "      <th>max</th>\n",
       "      <td>200.000000</td>\n",
       "      <td>296.400000</td>\n",
       "      <td>49.600000</td>\n",
       "      <td>114.000000</td>\n",
       "      <td>27.000000</td>\n",
       "    </tr>\n",
       "  </tbody>\n",
       "</table>\n",
       "</div>"
      ],
      "text/plain": [
       "       Unnamed: 0          TV       radio   newspaper       sales\n",
       "count  200.000000  200.000000  200.000000  200.000000  200.000000\n",
       "mean   100.500000  147.042500   23.264000   30.554000   14.022500\n",
       "std     57.879185   85.854236   14.846809   21.778621    5.217457\n",
       "min      1.000000    0.700000    0.000000    0.300000    1.600000\n",
       "25%     50.750000   74.375000    9.975000   12.750000   10.375000\n",
       "50%    100.500000  149.750000   22.900000   25.750000   12.900000\n",
       "75%    150.250000  218.825000   36.525000   45.100000   17.400000\n",
       "max    200.000000  296.400000   49.600000  114.000000   27.000000"
      ]
     },
     "execution_count": 6,
     "metadata": {},
     "output_type": "execute_result"
    }
   ],
   "source": [
    "# check the stats\n",
    "df.describe()"
   ]
  },
  {
   "cell_type": "markdown",
   "id": "d2e81346",
   "metadata": {},
   "source": [
    "# Data Visualization"
   ]
  },
  {
   "cell_type": "code",
   "execution_count": 7,
   "id": "548c7e00",
   "metadata": {},
   "outputs": [
    {
     "data": {
      "text/plain": [
       "<AxesSubplot:xlabel='sales', ylabel='Density'>"
      ]
     },
     "execution_count": 7,
     "metadata": {},
     "output_type": "execute_result"
    },
    {
     "data": {
      "image/png": "[encoded data removed]",
      "text/plain": [
       "<Figure size 432x288 with 1 Axes>"
      ]
     },
     "metadata": {
      "needs_background": "light"
     },
     "output_type": "display_data"
    }
   ],
   "source": [
    "sns.distplot(df['sales'])"
   ]
  },
  {
   "cell_type": "code",
   "execution_count": 8,
   "id": "399b305b",
   "metadata": {},
   "outputs": [
    {
     "data": {
      "text/plain": [
       "<AxesSubplot:xlabel='TV', ylabel='Density'>"
      ]
     },
     "execution_count": 8,
     "metadata": {},
     "output_type": "execute_result"
    },
    {
     "data": {
      "image/png": "[encoded data removed]",
      "text/plain": [
       "<Figure size 432x288 with 1 Axes>"
      ]
     },
     "metadata": {
      "needs_background": "light"
     },
     "output_type": "display_data"
    }
   ],
   "source": [
    "sns.distplot(df['TV'])"
   ]
  },
  {
   "cell_type": "code",
   "execution_count": 9,
   "id": "ba53e01f",
   "metadata": {},
   "outputs": [
    {
     "data": {
      "text/plain": [
       "<AxesSubplot:xlabel='radio', ylabel='Density'>"
      ]
     },
     "execution_count": 9,
     "metadata": {},
     "output_type": "execute_result"
    },
    {
     "data": {
      "image/png": "[encoded data removed]",
      "text/plain": [
       "<Figure size 432x288 with 1 Axes>"
      ]
     },
     "metadata": {
      "needs_background": "light"
     },
     "output_type": "display_data"
    }
   ],
   "source": [
    "sns.distplot(df['radio'])"
   ]
  },
  {
   "cell_type": "code",
   "execution_count": 10,
   "id": "d439eda0",
   "metadata": {},
   "outputs": [
    {
     "data": {
      "text/plain": [
       "<AxesSubplot:xlabel='newspaper', ylabel='Density'>"
      ]
     },
     "execution_count": 10,
     "metadata": {},
     "output_type": "execute_result"
    },
    {
     "data": {
      "image/png": "[encoded data removed]",
      "text/plain": [
       "<Figure size 432x288 with 1 Axes>"
      ]
     },
     "metadata": {
      "needs_background": "light"
     },
     "output_type": "display_data"
    }
   ],
   "source": [
    "sns.distplot(df['newspaper'])"
   ]
  },
  {
   "cell_type": "markdown",
   "id": "0c8b960a",
   "metadata": {},
   "source": [
    "#### using distplot, found there are skewness in newspaper column"
   ]
  },
  {
   "cell_type": "code",
   "execution_count": 17,
   "id": "aca34c76",
   "metadata": {},
   "outputs": [
    {
     "data": {
      "image/png": "[encoded data removed]",
      "text/plain": [
       "<Figure size 720x432 with 1 Axes>"
      ]
     },
     "metadata": {
      "needs_background": "light"
     },
     "output_type": "display_data"
    }
   ],
   "source": [
    "plt.figure(figsize=[10,6])\n",
    "plt.title('Relationship between TV Advertising and Sales')\n",
    "sns.scatterplot(df['TV'], df['sales']);"
   ]
  },
  {
   "cell_type": "markdown",
   "id": "42aee592",
   "metadata": {},
   "source": [
    "#### Upon reviewing above plot, as TV advertising is increased, sales are also increased."
   ]
  },
  {
   "cell_type": "code",
   "execution_count": 19,
   "id": "c5bd2626",
   "metadata": {},
   "outputs": [
    {
     "data": {
      "image/png": "[encoded data removed]",
      "text/plain": [
       "<Figure size 720x432 with 1 Axes>"
      ]
     },
     "metadata": {
      "needs_background": "light"
     },
     "output_type": "display_data"
    }
   ],
   "source": [
    "plt.figure(figsize=[10,6])\n",
    "plt.title('Relationship between radio Advertising and Sales')\n",
    "sns.scatterplot(df['radio'], df['sales']);"
   ]
  },
  {
   "cell_type": "markdown",
   "id": "8d68dbae",
   "metadata": {},
   "source": [
    "#### Upon reviewing above plot, similar to TV advertising, as radio advertising is increased, sales are also increased. But Radio advertising is less effective than TV."
   ]
  },
  {
   "cell_type": "code",
   "execution_count": 20,
   "id": "8eeff21d",
   "metadata": {},
   "outputs": [
    {
     "data": {
      "image/png": "[encoded data removed]",
      "text/plain": [
       "<Figure size 720x432 with 1 Axes>"
      ]
     },
     "metadata": {
      "needs_background": "light"
     },
     "output_type": "display_data"
    }
   ],
   "source": [
    "plt.figure(figsize=[10,6])\n",
    "plt.title('Relationship between Newspaper Advertising and Sales')\n",
    "sns.scatterplot(df['newspaper'], df['sales']);\n"
   ]
  },
  {
   "cell_type": "markdown",
   "id": "08b51749",
   "metadata": {},
   "source": [
    "#### Upon reviewing above plot, newspaper advertising has high effect on sales positively at initial. However, as advertising is increased, it has low effect on sales and almost nil at max.\n",
    "#### TV advertising has higher positive impact on sales and followed by radio. So TV and radio will have higher correlation with sales"
   ]
  },
  {
   "cell_type": "code",
   "execution_count": 21,
   "id": "a39849f4",
   "metadata": {},
   "outputs": [
    {
     "data": {
      "text/html": [
       "<div>\n",
       "<style scoped>\n",
       "    .dataframe tbody tr th:only-of-type {\n",
       "        vertical-align: middle;\n",
       "    }\n",
       "\n",
       "    .dataframe tbody tr th {\n",
       "        vertical-align: top;\n",
       "    }\n",
       "\n",
       "    .dataframe thead th {\n",
       "        text-align: right;\n",
       "    }\n",
       "</style>\n",
       "<table border=\"1\" class=\"dataframe\">\n",
       "  <thead>\n",
       "    <tr style=\"text-align: right;\">\n",
       "      <th></th>\n",
       "      <th>Unnamed: 0</th>\n",
       "      <th>TV</th>\n",
       "      <th>radio</th>\n",
       "      <th>newspaper</th>\n",
       "      <th>sales</th>\n",
       "    </tr>\n",
       "  </thead>\n",
       "  <tbody>\n",
       "    <tr>\n",
       "      <th>Unnamed: 0</th>\n",
       "      <td>1.000000</td>\n",
       "      <td>0.017715</td>\n",
       "      <td>-0.110680</td>\n",
       "      <td>-0.154944</td>\n",
       "      <td>-0.051616</td>\n",
       "    </tr>\n",
       "    <tr>\n",
       "      <th>TV</th>\n",
       "      <td>0.017715</td>\n",
       "      <td>1.000000</td>\n",
       "      <td>0.054809</td>\n",
       "      <td>0.056648</td>\n",
       "      <td>0.782224</td>\n",
       "    </tr>\n",
       "    <tr>\n",
       "      <th>radio</th>\n",
       "      <td>-0.110680</td>\n",
       "      <td>0.054809</td>\n",
       "      <td>1.000000</td>\n",
       "      <td>0.354104</td>\n",
       "      <td>0.576223</td>\n",
       "    </tr>\n",
       "    <tr>\n",
       "      <th>newspaper</th>\n",
       "      <td>-0.154944</td>\n",
       "      <td>0.056648</td>\n",
       "      <td>0.354104</td>\n",
       "      <td>1.000000</td>\n",
       "      <td>0.228299</td>\n",
       "    </tr>\n",
       "    <tr>\n",
       "      <th>sales</th>\n",
       "      <td>-0.051616</td>\n",
       "      <td>0.782224</td>\n",
       "      <td>0.576223</td>\n",
       "      <td>0.228299</td>\n",
       "      <td>1.000000</td>\n",
       "    </tr>\n",
       "  </tbody>\n",
       "</table>\n",
       "</div>"
      ],
      "text/plain": [
       "            Unnamed: 0        TV     radio  newspaper     sales\n",
       "Unnamed: 0    1.000000  0.017715 -0.110680  -0.154944 -0.051616\n",
       "TV            0.017715  1.000000  0.054809   0.056648  0.782224\n",
       "radio        -0.110680  0.054809  1.000000   0.354104  0.576223\n",
       "newspaper    -0.154944  0.056648  0.354104   1.000000  0.228299\n",
       "sales        -0.051616  0.782224  0.576223   0.228299  1.000000"
      ]
     },
     "execution_count": 21,
     "metadata": {},
     "output_type": "execute_result"
    }
   ],
   "source": [
    "# corelation\n",
    "corr_mat=df.corr()\n",
    "corr_mat"
   ]
  },
  {
   "cell_type": "code",
   "execution_count": 22,
   "id": "1fe260e9",
   "metadata": {},
   "outputs": [
    {
     "data": {
      "image/png": "[encoded data removed]",
      "text/plain": [
       "<Figure size 1584x864 with 2 Axes>"
      ]
     },
     "metadata": {
      "needs_background": "light"
     },
     "output_type": "display_data"
    }
   ],
   "source": [
    "plt.figure(figsize=[22,12])\n",
    "sns.heatmap(corr_mat,annot=True)\n",
    "plt.title(\"Correlation Matrix\")\n",
    "plt.show()"
   ]
  },
  {
   "cell_type": "code",
   "execution_count": 23,
   "id": "8c9c2f12",
   "metadata": {},
   "outputs": [
    {
     "data": {
      "text/plain": [
       "<AxesSubplot:>"
      ]
     },
     "execution_count": 23,
     "metadata": {},
     "output_type": "execute_result"
    },
    {
     "data": {
      "image/png": "[encoded data removed]",
      "text/plain": [
       "<Figure size 432x288 with 2 Axes>"
      ]
     },
     "metadata": {
      "needs_background": "light"
     },
     "output_type": "display_data"
    }
   ],
   "source": [
    "sns.heatmap(corr_mat,annot=True,linewidths=6,linecolor='r')"
   ]
  },
  {
   "cell_type": "code",
   "execution_count": 24,
   "id": "a4fa4354",
   "metadata": {},
   "outputs": [
    {
     "data": {
      "text/plain": [
       "sales         1.000000\n",
       "TV            0.782224\n",
       "radio         0.576223\n",
       "newspaper     0.228299\n",
       "Unnamed: 0   -0.051616\n",
       "Name: sales, dtype: float64"
      ]
     },
     "execution_count": 24,
     "metadata": {},
     "output_type": "execute_result"
    }
   ],
   "source": [
    "corr_mat[\"sales\"].sort_values(ascending=False)"
   ]
  },
  {
   "cell_type": "markdown",
   "id": "2224a622",
   "metadata": {},
   "source": [
    "#### Checking the Correlation between the target value and rest columns using Heatmap, Correlation Matrix.\n",
    "\n",
    "#### Upon review, found TV, radio are highly correlated with sales data which coincides with the graphical data analysis done in above steps"
   ]
  },
  {
   "cell_type": "code",
   "execution_count": 25,
   "id": "19d0f084",
   "metadata": {},
   "outputs": [
    {
     "data": {
      "image/png": "[encoded data removed]",
      "text/plain": [
       "<Figure size 1584x504 with 1 Axes>"
      ]
     },
     "metadata": {
      "needs_background": "light"
     },
     "output_type": "display_data"
    }
   ],
   "source": [
    "plt.figure(figsize=(22,7))\n",
    "df.corr()['sales'].sort_values(ascending=False).drop(['sales']).plot(kind='bar',color='c')\n",
    "plt.xlabel('Feature',fontsize=14)\n",
    "plt.ylabel('column with target names',fontsize=14)\n",
    "plt.title('correlation',fontsize=18)\n",
    "plt.show()"
   ]
  },
  {
   "cell_type": "markdown",
   "id": "d536e4f3",
   "metadata": {},
   "source": [
    "#### TV Advertising increases the sales high which is followed by Radio Advertising"
   ]
  },
  {
   "cell_type": "markdown",
   "id": "6a2da9f9",
   "metadata": {},
   "source": [
    "# Feature and Label Seperation"
   ]
  },
  {
   "cell_type": "code",
   "execution_count": 26,
   "id": "cb60895f",
   "metadata": {},
   "outputs": [],
   "source": [
    "x=df.drop(\"sales\",axis=1)\n",
    "y=df[\"sales\"]"
   ]
  },
  {
   "cell_type": "markdown",
   "id": "40385b48",
   "metadata": {},
   "source": [
    "# Skewness"
   ]
  },
  {
   "cell_type": "code",
   "execution_count": 27,
   "id": "e23f7592",
   "metadata": {},
   "outputs": [
    {
     "data": {
      "text/plain": [
       "Unnamed: 0    0.000000\n",
       "TV           -0.069853\n",
       "radio         0.094175\n",
       "newspaper     0.894720\n",
       "dtype: float64"
      ]
     },
     "execution_count": 27,
     "metadata": {},
     "output_type": "execute_result"
    }
   ],
   "source": [
    "x.skew()"
   ]
  },
  {
   "cell_type": "markdown",
   "id": "8080516c",
   "metadata": {},
   "source": [
    "#### Checking for the Skewness and found newspaper has more skewness as predicted by distplot analysis"
   ]
  },
  {
   "cell_type": "code",
   "execution_count": 28,
   "id": "209a80ef",
   "metadata": {},
   "outputs": [],
   "source": [
    "from sklearn.preprocessing import power_transform\n",
    "df_skew=power_transform(x)\n",
    "\n",
    "df_skew=pd.DataFrame(df_skew,columns=x.columns)"
   ]
  },
  {
   "cell_type": "code",
   "execution_count": 29,
   "id": "00f96e7b",
   "metadata": {},
   "outputs": [
    {
     "data": {
      "text/plain": [
       "Unnamed: 0   -0.268270\n",
       "TV           -0.315199\n",
       "radio        -0.242968\n",
       "newspaper    -0.077942\n",
       "dtype: float64"
      ]
     },
     "execution_count": 29,
     "metadata": {},
     "output_type": "execute_result"
    }
   ],
   "source": [
    "# Removing Skewness through Power Transforms\n",
    "df_skew.skew()"
   ]
  },
  {
   "cell_type": "markdown",
   "id": "82933c85",
   "metadata": {},
   "source": [
    "#### Checking Skewness after power transforms and found all columns skewness is within range of -0.5 to +0.5"
   ]
  },
  {
   "cell_type": "code",
   "execution_count": 30,
   "id": "73a9d9fc",
   "metadata": {},
   "outputs": [],
   "source": [
    "df=df_skew\n",
    "x=df_skew"
   ]
  },
  {
   "cell_type": "markdown",
   "id": "6947dc52",
   "metadata": {},
   "source": [
    "# Outlier Detection"
   ]
  },
  {
   "cell_type": "code",
   "execution_count": 31,
   "id": "b387bec4",
   "metadata": {
    "scrolled": true
   },
   "outputs": [
    {
     "data": {
      "image/png": "[encoded data removed]",
      "text/plain": [
       "<Figure size 1440x576 with 1 Axes>"
      ]
     },
     "metadata": {
      "needs_background": "light"
     },
     "output_type": "display_data"
    }
   ],
   "source": [
    "x.boxplot(figsize=[20,8])\n",
    "plt.subplots_adjust(bottom=0.25)\n",
    "plt.show()"
   ]
  },
  {
   "cell_type": "markdown",
   "id": "73f19002",
   "metadata": {},
   "source": [
    "#### Checking for Outliers through box plot graphs and found no outliers;"
   ]
  },
  {
   "cell_type": "code",
   "execution_count": 33,
   "id": "730b2893",
   "metadata": {},
   "outputs": [
    {
     "data": {
      "text/plain": [
       "<AxesSubplot:>"
      ]
     },
     "execution_count": 33,
     "metadata": {},
     "output_type": "execute_result"
    },
    {
     "data": {
      "image/png": "[encoded data removed]",
      "text/plain": [
       "<Figure size 432x288 with 1 Axes>"
      ]
     },
     "metadata": {
      "needs_background": "light"
     },
     "output_type": "display_data"
    }
   ],
   "source": [
    "df['TV'].plot.box()"
   ]
  },
  {
   "cell_type": "code",
   "execution_count": 34,
   "id": "a7539cab",
   "metadata": {},
   "outputs": [
    {
     "data": {
      "text/plain": [
       "<AxesSubplot:>"
      ]
     },
     "execution_count": 34,
     "metadata": {},
     "output_type": "execute_result"
    },
    {
     "data": {
      "image/png": "[encoded data removed]",
      "text/plain": [
       "<Figure size 432x288 with 1 Axes>"
      ]
     },
     "metadata": {
      "needs_background": "light"
     },
     "output_type": "display_data"
    }
   ],
   "source": [
    "df['radio'].plot.box()"
   ]
  },
  {
   "cell_type": "code",
   "execution_count": 35,
   "id": "471d540a",
   "metadata": {},
   "outputs": [
    {
     "data": {
      "text/plain": [
       "<AxesSubplot:>"
      ]
     },
     "execution_count": 35,
     "metadata": {},
     "output_type": "execute_result"
    },
    {
     "data": {
      "image/png": "[encoded data removed]",
      "text/plain": [
       "<Figure size 432x288 with 1 Axes>"
      ]
     },
     "metadata": {
      "needs_background": "light"
     },
     "output_type": "display_data"
    }
   ],
   "source": [
    "df['newspaper'].plot.box()"
   ]
  },
  {
   "cell_type": "markdown",
   "id": "8a291970",
   "metadata": {},
   "source": [
    "#### No outlier detected"
   ]
  },
  {
   "cell_type": "markdown",
   "id": "fa2f93c2",
   "metadata": {},
   "source": [
    "# Data Standardization"
   ]
  },
  {
   "cell_type": "code",
   "execution_count": 38,
   "id": "e86c817a",
   "metadata": {},
   "outputs": [
    {
     "data": {
      "text/plain": [
       "array([[-2.07937596,  0.94867429,  0.96224689,  1.51433531],\n",
       "       [-2.03292263, -1.19131426,  1.0401788 ,  0.78768252],\n",
       "       [-1.990711  , -1.6477566 ,  1.37070964,  1.51699753],\n",
       "       [-1.95139683,  0.14102023,  1.14238689,  1.21465643],\n",
       "       [-1.91424742,  0.45271493, -0.74865064,  1.21170398],\n",
       "       [-1.87880665, -1.82382233,  1.51501853,  1.66502354],\n",
       "       [-1.8447658 , -1.00249116,  0.69372704, -0.1077535 ],\n",
       "       [-1.81190337, -0.210275  , -0.10158544, -0.84409341],\n",
       "       [-1.7800535 , -1.82609501, -1.63345378, -2.13259669],\n",
       "       [-1.74908785,  0.64764492, -1.56676988, -0.22900395],\n",
       "       [-1.71890445, -0.88377378, -1.20298758, -0.07226156],\n",
       "       [-1.68942058,  0.79708355,  0.18072579, -1.60261898],\n",
       "       [-1.66056789, -1.52641627,  0.81900563,  1.42512925],\n",
       "       [-1.63228912, -0.48036844, -1.02813642, -1.22982506],\n",
       "       [-1.60453563,  0.69106577,  0.6992403 ,  0.81860579],\n",
       "       [-1.57726567,  0.60295713,  1.45770359,  1.04432344],\n",
       "       [-1.55044308, -0.86079972,  0.89906999,  2.52943514],\n",
       "       [-1.52403621,  1.4355201 ,  1.05563142,  1.13383286],\n",
       "       [-1.49801724, -0.84199328, -0.04209908, -0.39356015],\n",
       "       [-1.47236146,  0.09508551,  0.17453165, -0.34671544],\n",
       "       [-1.44704684,  0.8337607 ,  0.40367061,  1.05996548],\n",
       "       [-1.42205365,  1.01958629, -1.27567304, -0.1077535 ],\n",
       "       [-1.39736406, -1.72701642, -0.35739289,  0.93875739],\n",
       "       [-1.37296197,  0.93109798, -0.28631129,  0.02589311],\n",
       "       [-1.34883272, -0.93569772, -0.60431061, -0.39356015],\n",
       "       [-1.32496292,  1.26290943, -1.4550585 , -0.3237259 ],\n",
       "       [-1.30134033,  0.04659013,  0.49664406, -0.76867281],\n",
       "       [-1.27795368,  1.0456669 , -0.30040383, -0.1386789 ],\n",
       "       [-1.25479261,  1.12918152,  0.3682981 , -0.1386789 ],\n",
       "       [-1.23184753, -0.82328646, -0.35021379,  0.63452018],\n",
       "       [-1.20910953,  1.54129731,  0.43876195,  0.72114861],\n",
       "       [-1.18657038, -0.29553337, -0.25134036,  0.55235877],\n",
       "       [-1.16422237, -0.48404243, -1.71918898,  0.20071936],\n",
       "       [-1.14205833,  1.28829734, -0.07502706, -2.32472495],\n",
       "       [-1.12007157, -0.50245749, -1.7342107 , -1.20981332],\n",
       "       [-1.09825578,  1.52114819, -1.3853128 , -1.10471076],\n",
       "       [-1.07660508,  1.3004967 ,  1.2675887 , -1.47330873],\n",
       "       [-1.05511391, -0.76905257,  1.53874417,  0.80833914],\n",
       "       [-1.03377706, -1.21245403,  0.34455612,  0.4155984 ],\n",
       "       [-1.0125896 ,  0.92816503,  0.95701091,  0.28742321],\n",
       "       [-0.99154687,  0.67493776,  0.07409584,  0.27034854],\n",
       "       [-0.97064448,  0.41309098,  0.72671408,  0.55615392],\n",
       "       [-0.94987826,  1.54769995,  0.40367061, -1.95904851],\n",
       "       [-0.92924425,  0.71920943, -0.95499286,  0.03545918],\n",
       "       [-0.90873871, -1.50359538,  0.28462118,  0.72469411],\n",
       "       [-0.88835806,  0.39319467,  0.08679116,  0.26605961],\n",
       "       [-0.86809891, -0.57689562, -0.82396106,  0.43960934],\n",
       "       [-0.84795803,  1.04373768,  1.15250515, -0.3817378 ],\n",
       "       [-0.82793233,  0.92033882, -0.36458821,  0.94852755],\n",
       "       [-0.80801888, -0.87294338, -0.67550361,  0.48300508],\n",
       "       [-0.78821485,  0.64764492, -1.50354208,  0.3953996 ],\n",
       "       [-0.76851757, -0.44500506, -0.84958728, -1.65883577],\n",
       "       [-0.74892445,  0.81395585,  1.16260524,  0.59004665],\n",
       "       [-0.72943303,  0.47140703,  1.38529598,  1.22055211],\n",
       "       [-0.71004095,  1.2610261 ,  0.46779569, -0.54176985],\n",
       "       [-0.69074595,  0.63852563,  1.53874417,  1.25857888],\n",
       "       [-0.67154584, -1.85624738,  0.42709558,  0.65646046],\n",
       "       [-0.65243853, -0.02802214, -0.12834141, -0.49726342],\n",
       "       [-0.63342202,  0.75824197,  1.54820925,  0.51793191],\n",
       "       [-0.61449437,  0.75724354,  0.50813245, -1.03293213],\n",
       "       [-0.59565372, -1.05927427, -1.64727037, -0.21815975],\n",
       "       [-0.57689827,  1.24783212,  1.21283741,  1.10022212],\n",
       "       [-0.55822629,  1.03794746, -0.38627294,  0.07797929],\n",
       "       [-0.53963613, -0.41714955,  0.51386586, -1.11394312],\n",
       "       [-0.52112616, -0.08546826,  1.21783637,  0.15154706],\n",
       "       [-0.50269484, -0.84467375, -0.87549189, -2.1571572 ],\n",
       "       [-0.48434067, -1.39531449,  0.21769395, -1.88378271],\n",
       "       [-0.46606219,  0.0066178 , -0.45966823, -0.95619942],\n",
       "       [-0.447858  ,  1.01958629,  0.39191142, -0.8911416 ],\n",
       "       [-0.42972675,  0.81792069,  1.2725405 ,  0.07329661],\n",
       "       [-0.41166713,  0.64055308,  0.5708121 ,  0.55615392],\n",
       "       [-0.39367785, -0.3321763 , -0.4745618 ,  0.27462933],\n",
       "       [-0.37575769, -1.47420382,  0.70474737, -0.33518557],\n",
       "       [-0.35790545, -0.10474749, -1.21318999,  0.25745713],\n",
       "       [-0.34011998,  0.7841573 ,  0.21769395, -0.73224866],\n",
       "       [-0.32240015, -1.65352738,  1.26263268,  2.01064695],\n",
       "       [-0.30474487, -1.46224158, -1.70439494, -0.25638211],\n",
       "       [-0.28715309, -0.20680098,  0.45039797, -0.65484297],\n",
       "       [-0.26962378, -1.90271957,  0.53102334, -1.02420602],\n",
       "       [-0.25215593, -0.25915513, -1.01885558, -0.1283175 ],\n",
       "       [-0.23474858, -0.74679627,  0.34455612, -0.17008941],\n",
       "       [-0.21740078,  1.04277291, -1.3853128 ,  0.48691113],\n",
       "       [-0.20011162, -0.76118235, -0.05523482,  0.30858709],\n",
       "       [-0.1828802 , -0.85272745,  1.30216339,  0.43562451],\n",
       "       [-0.16570565,  0.78515237,  1.22782124,  0.36271243],\n",
       "       [-0.14858714,  0.58051341, -0.1824681 ,  1.41963599],\n",
       "       [-0.13152383, -0.74810183,  0.39191142, -0.53534269],\n",
       "       [-0.11451492, -0.32151022,  1.10682827,  1.35009138],\n",
       "       [-0.09755963, -0.59445094,  0.27253204,  1.62418784],\n",
       "       [-0.0806572 , -0.3321763 ,  1.46250027,  0.99685054],\n",
       "       [-0.06380689, -0.04935604, -1.29701657, -1.03293213],\n",
       "       [-0.04700796, -1.44360046, -1.71918898,  0.32955606],\n",
       "       [-0.03025972,  0.8268345 ,  0.7321905 ,  1.22937273],\n",
       "       [-0.01356148,  1.14922339,  0.89377076,  1.59579653],\n",
       "       [ 0.00308744, -0.36073275, -0.49704225, -0.89912378],\n",
       "       [ 0.0196877 ,  0.26831445,  0.62707446,  1.04432344],\n",
       "       [ 0.03623994,  0.62533398, -1.4550585 , -1.3679351 ],\n",
       "       [ 0.05274478,  0.49522053, -0.00946213, -0.18598289],\n",
       "       [ 0.06920283,  1.51197614,  1.19279775,  0.99045745],\n",
       "       [ 0.08561471, -0.03924063,  1.16260524,  0.8151881 ],\n",
       "       [ 0.10198098,  0.87322688, -1.36277082,  0.94527481],\n",
       "       [ 0.11830223,  1.57327016,  0.88315609,  2.2628248 ],\n",
       "       [ 0.134579  ,  1.42441703, -0.80702634, -0.21815975],\n",
       "       [ 0.15081186,  0.52616407, -0.26528466, -0.41743473],\n",
       "       [ 0.16700133,  1.02732204,  0.77578583, -1.4371576 ],\n",
       "       [ 0.18314793, -0.00900053,  1.39500055,  1.22937273],\n",
       "       [ 0.19925219, -1.50533991, -0.73221674,  0.18741746],\n",
       "       [ 0.2153146 , -0.56814506, -1.91962741, -0.12315678],\n",
       "       [ 0.23133565, -1.72906885, -1.90076688, -0.00306944],\n",
       "       [ 0.24731582,  1.19202117,  0.35644335, -1.41364623],\n",
       "       [ 0.26325559,  0.90662534, -0.97304835,  1.15501188],\n",
       "       [ 0.27915542,  1.06108536,  0.97270342, -0.12315678],\n",
       "       [ 0.29501575,  0.39948386, -0.39353456, -1.84832983],\n",
       "       [ 0.31083704,  0.74625251, -0.0355487 , -0.91521378],\n",
       "       [ 0.32661971, -0.72337219,  1.41436293,  0.39133878],\n",
       "       [ 0.3423642 , -0.76380392,  0.81362329,  1.03804144],\n",
       "       [ 0.35807091,  0.00550359, -0.4745618 , -0.00306944],\n",
       "       [ 0.37374026, -0.74679627, -1.82997283, -0.6140794 ],\n",
       "       [ 0.38937266, -0.1469415 ,  0.91493549,  1.76974284],\n",
       "       [ 0.40496849, -1.60617806, -0.35021379, -0.17008941],\n",
       "       [ 0.42052814,  0.02885793,  0.35050382,  0.82542768],\n",
       "       [ 0.436052  , -1.61739376,  0.0357579 ,  0.96473213],\n",
       "       [ 0.45154043,  0.88896054, -1.59299019, -0.56119394],\n",
       "       [ 0.46699379, -0.17678774,  0.79203663, -0.78347482],\n",
       "       [ 0.48241246,  0.94281959,  0.66606674,  1.64467302],\n",
       "       [ 0.49779678, -0.60829585, -0.66750027,  0.01146189],\n",
       "       [ 0.51314709, -1.84451116,  1.01950683,  0.9711866 ],\n",
       "       [ 0.52846374, -0.69751107, -1.9798635 , -1.04171092],\n",
       "       [ 0.54374706,  0.85253082,  1.51977089, -1.71817136],\n",
       "       [ 0.55899738, -0.9730961 , -0.65156482,  0.71759813],\n",
       "       [ 0.57421502, -2.04026249,  1.05563142, -1.08642518],\n",
       "       [ 0.5894003 ,  1.2845405 , -1.52845902,  0.71404265],\n",
       "       [ 0.60455352, -1.83065941,  0.37421339, -1.90202575],\n",
       "       [ 0.61967501,  0.84759549,  0.7321905 ,  0.78768252],\n",
       "       [ 0.63476505, -1.30833884,  1.0039509 ,  1.41688552],\n",
       "       [ 0.64982394, -1.1347862 ,  1.42402092, -1.10471076],\n",
       "       [ 0.66485197, -1.49489926,  1.02468221, -1.03293213],\n",
       "       [ 0.67984943,  1.36405418,  0.47358005,  1.2498484 ],\n",
       "       [ 0.69481661, -1.2139708 ,  0.2966758 , -0.26744284],\n",
       "       [ 0.70975377,  0.49522053,  1.2725405 , -1.97889407],\n",
       "       [ 0.72466119, -0.78616198, -0.27928757, -0.74672069],\n",
       "       [ 0.73953914,  0.58562018,  0.83511859,  1.68019945],\n",
       "       [ 0.75438788,  0.85450412,  0.71574298,  0.52562487],\n",
       "       [ 0.76920768, -0.39426242, -1.21318999,  0.38727085],\n",
       "       [ 0.78399878, -0.49631074, -0.43746469,  0.56372647],\n",
       "       [ 0.79876144,  0.01774834, -1.66126392, -1.05942991],\n",
       "       [ 0.8134959 ,  1.0456669 , -1.05622936, -1.08642518],\n",
       "       [ 0.82820241,  1.07551559,  1.51977089,  0.75987942],\n",
       "       [ 0.84288122, -1.29103896,  1.09151903, -0.82108927],\n",
       "       [ 0.85753255, -1.18830853,  0.29065278, -0.26190454],\n",
       "       [ 0.87215664,  1.42904484, -0.50457379,  0.49081078],\n",
       "       [ 0.88675372, -0.20101603, -0.95499286,  0.90922967],\n",
       "       [ 0.90132401,  0.62533398,  0.13716541, -0.65484297],\n",
       "       [ 0.91586774,  0.35322947,  1.0607726 ,  0.51793191],\n",
       "       [ 0.93038512,  0.52513474, -0.00296885, -1.01553176],\n",
       "       [ 0.94487638, -1.93665721, -0.68353104, -1.39057916],\n",
       "       [ 0.95934173, -0.52465633,  1.25270792,  0.96796131],\n",
       "       [ 0.97378137,  0.12246872, -1.74947332, -0.06724139],\n",
       "       [ 0.98819551, -1.75822712,  0.91493549,  0.79113681],\n",
       "       [ 1.00258436, -0.07867963, -0.1824681 ,  0.3953996 ],\n",
       "       [ 1.01694811,  0.36587519, -0.20298441,  0.23144984],\n",
       "       [ 1.03128697, -0.62724967,  0.85652391,  0.92895126],\n",
       "       [ 1.04560114,  0.53130856, -0.20298441, -0.00306944],\n",
       "       [ 1.05989079,  0.27045056,  0.90965233, -1.20981332],\n",
       "       [ 1.07415613, -0.24514238, -0.44484785, -1.42534498],\n",
       "       [ 1.08839735,  0.99148599, -1.46701964,  1.90420913],\n",
       "       [ 1.10261461, -1.63438885,  0.95176976, -0.20737541],\n",
       "       [ 1.11680812,  0.71820605, -1.26510158, -0.32944703],\n",
       "       [ 1.13097805,  0.80403524,  0.15589202,  1.18797267],\n",
       "       [ 1.14512457,  1.46230082, -0.76519122, -1.31304986],\n",
       "       [ 1.15924786, -1.10987617, -0.68353104, -0.38763953],\n",
       "       [ 1.1733481 ,  0.28112073, -0.01596668,  0.86598739],\n",
       "       [ 1.18742546, -1.60245911, -0.06841773, -0.47232241],\n",
       "       [ 1.20148009,  0.32257166, -1.07517365, -0.75400514],\n",
       "       [ 1.21551218,  0.87322688, -1.46701964, -0.73224866],\n",
       "       [ 1.22952188,  1.39381826,  1.51501853,  0.67098058],\n",
       "       [ 1.24350935,  1.12535894,  0.54811736, -0.27856754],\n",
       "       [ 1.25747476,  0.34161695, -1.00961537,  0.41961731],\n",
       "       [ 1.27141827,  1.39196069, -1.60632069, -0.09754949],\n",
       "       [ 1.28534002,  0.29283811, -0.81547901, -0.43554699],\n",
       "       [ 1.29924018,  0.19634785, -1.56676988, -1.12323656],\n",
       "       [ 1.31311888,  0.83474968, -1.2441519 ,  0.08265171],\n",
       "       [ 1.3269763 , -1.02082882, -1.21318999,  0.18741746],\n",
       "       [ 1.34081256,  1.49268741,  1.22782124,  1.58280405],\n",
       "       [ 1.35462783,  1.17682728,  0.00998415,  0.20071936],\n",
       "       [ 1.36842224,  0.70012304,  1.33163754, -0.31802204],\n",
       "       [ 1.38219593,  0.0088456 , -1.63345378,  0.04498207],\n",
       "       [ 1.39594906,  0.55902662,  0.46200391, -0.39949982],\n",
       "       [ 1.40968175,  1.47796614, -0.50457379, -1.64450612],\n",
       "       [ 1.42339414, -1.61927178, -0.64363221, -0.11287487],\n",
       "       [ 1.43708637, -1.267656  ,  1.13225036, -1.37920552],\n",
       "       [ 1.45075858, -0.75856261, -0.74865064, -1.35676548],\n",
       "       [ 1.4644109 , -1.6477566 , -1.3853128 ,  0.27034854],\n",
       "       [ 1.47804345,  0.30559723,  1.1777216 , -1.65883577],\n",
       "       [ 1.49165638,  0.12137572,  0.84583242, -1.35676548],\n",
       "       [ 1.5052498 , -1.28790757, -1.43143631, -0.68257581],\n",
       "       [ 1.51882384, -0.52094879, -1.29701657, -1.14201102],\n",
       "       [ 1.53237863,  0.41309098, -0.87549189, -1.31304986],\n",
       "       [ 1.5459143 ,  1.45584317,  1.1777216 ,  1.43335009],\n",
       "       [ 1.55943096,  0.96816082, -0.93708342, -1.08642518]])"
      ]
     },
     "execution_count": 38,
     "metadata": {},
     "output_type": "execute_result"
    }
   ],
   "source": [
    "# Scaling the Feature data\n",
    "\n",
    "from sklearn.preprocessing import StandardScaler\n",
    "SC=StandardScaler()\n",
    "x=SC.fit_transform(x)\n",
    "x"
   ]
  },
  {
   "cell_type": "markdown",
   "id": "270adcd1",
   "metadata": {},
   "source": [
    "# Train Test Split"
   ]
  },
  {
   "cell_type": "code",
   "execution_count": 39,
   "id": "7d3ecfa1",
   "metadata": {},
   "outputs": [],
   "source": [
    "x_train, x_test, y_train, y_test = train_test_split(x,y, test_size = 0.20, random_state=100)"
   ]
  },
  {
   "cell_type": "markdown",
   "id": "46cf6642",
   "metadata": {},
   "source": [
    "# Model Building"
   ]
  },
  {
   "cell_type": "markdown",
   "id": "c99ba03e",
   "metadata": {},
   "source": [
    "#### Linear Regression Model Build:"
   ]
  },
  {
   "cell_type": "code",
   "execution_count": 41,
   "id": "92ef02f7",
   "metadata": {},
   "outputs": [
    {
     "name": "stdout",
     "output_type": "stream",
     "text": [
      "0.9257857600065251\n",
      "1.5771226395503335\n",
      "1.2558354348999448\n"
     ]
    }
   ],
   "source": [
    "lr = LinearRegression()\n",
    "lr.fit(x_train,y_train)\n",
    "predlr = lr.predict(x_test)\n",
    "print(r2_score(y_test,predlr))\n",
    "print(mean_squared_error(y_test,predlr))\n",
    "print(np.sqrt(mean_squared_error(y_test,predlr)))"
   ]
  },
  {
   "cell_type": "code",
   "execution_count": 42,
   "id": "87f02d6a",
   "metadata": {},
   "outputs": [
    {
     "name": "stdout",
     "output_type": "stream",
     "text": [
      "Cross validation score for Linear Regression Model is  0.8953473674194841\n"
     ]
    }
   ],
   "source": [
    "scr = cross_val_score(lr,x,y,cv=5)\n",
    "print('Cross validation score for Linear Regression Model is ',scr.mean())"
   ]
  },
  {
   "cell_type": "markdown",
   "id": "7de4ed6e",
   "metadata": {},
   "source": [
    "#### Linear Regression Model Difference is 92.57 - 89.53 = 3.04\n",
    "\n",
    "#### Ridge Regression Model Build:"
   ]
  },
  {
   "cell_type": "code",
   "execution_count": 43,
   "id": "e477788f",
   "metadata": {},
   "outputs": [
    {
     "name": "stdout",
     "output_type": "stream",
     "text": [
      "0.924807681691509\n",
      "1.597907726805838\n",
      "1.264083749917638\n"
     ]
    }
   ],
   "source": [
    "r = Ridge()\n",
    "r.fit(x_train,y_train)\n",
    "predr = r.predict(x_test)\n",
    "print(r2_score(y_test,predr))\n",
    "print(mean_squared_error(y_test,predr))\n",
    "print(np.sqrt(mean_squared_error(y_test,predr)))"
   ]
  },
  {
   "cell_type": "code",
   "execution_count": 44,
   "id": "d155b87d",
   "metadata": {},
   "outputs": [
    {
     "name": "stdout",
     "output_type": "stream",
     "text": [
      "Cross validation score for Ridge Regression Model is 0.8953866482738437\n"
     ]
    }
   ],
   "source": [
    "scr = cross_val_score(r,x,y,cv=5)\n",
    "print('Cross validation score for Ridge Regression Model is', scr.mean())"
   ]
  },
  {
   "cell_type": "markdown",
   "id": "9b11b084",
   "metadata": {},
   "source": [
    "#### Ridge Regression Model Difference is 92.48 - 89.53 = 2.95\n",
    "\n",
    "#### Lasso Regression Model Build:"
   ]
  },
  {
   "cell_type": "code",
   "execution_count": 45,
   "id": "6c4b3fbf",
   "metadata": {},
   "outputs": [
    {
     "name": "stdout",
     "output_type": "stream",
     "text": [
      "0.8285851353014799\n",
      "3.6427276476221095\n",
      "1.908593106877972\n"
     ]
    }
   ],
   "source": [
    "l = Lasso()\n",
    "l.fit(x_train,y_train)\n",
    "predl = l.predict(x_test)\n",
    "print(r2_score(y_test,predl))\n",
    "print(mean_squared_error(y_test,predl))\n",
    "print(np.sqrt(mean_squared_error(y_test,predl)))"
   ]
  },
  {
   "cell_type": "code",
   "execution_count": 46,
   "id": "3cb5e362",
   "metadata": {},
   "outputs": [
    {
     "name": "stdout",
     "output_type": "stream",
     "text": [
      "Cross validation score for Lasso Regression Model is  0.8270960357806555\n"
     ]
    }
   ],
   "source": [
    "scr = cross_val_score(l,x,y,cv=5)\n",
    "print('Cross validation score for Lasso Regression Model is ', scr.mean())"
   ]
  },
  {
   "cell_type": "markdown",
   "id": "66192d1a",
   "metadata": {},
   "source": [
    "#### Lasso Regression Model Difference is 82.85 - 82.70 = 0.15\n",
    "#### Random Forest Regressor Model Build:"
   ]
  },
  {
   "cell_type": "code",
   "execution_count": 47,
   "id": "05a6a022",
   "metadata": {},
   "outputs": [
    {
     "name": "stdout",
     "output_type": "stream",
     "text": [
      "0.9848671779576847\n",
      "0.32158675000000037\n",
      "0.5670861927432199\n"
     ]
    }
   ],
   "source": [
    "rf = RandomForestRegressor()\n",
    "rf.fit(x_train,y_train)\n",
    "predrf = rf.predict(x_test)\n",
    "print(r2_score(y_test,predrf))\n",
    "print(mean_squared_error(y_test,predrf))\n",
    "print(np.sqrt(mean_squared_error(y_test,predrf)))"
   ]
  },
  {
   "cell_type": "code",
   "execution_count": 48,
   "id": "6dd3084c",
   "metadata": {},
   "outputs": [
    {
     "name": "stdout",
     "output_type": "stream",
     "text": [
      "Cross validation score for Random Forest Regressor Model is 0.971459277057142\n"
     ]
    }
   ],
   "source": [
    "scr = cross_val_score(rf,x,y,cv=5)\n",
    "print('Cross validation score for Random Forest Regressor Model is', scr.mean())"
   ]
  },
  {
   "cell_type": "markdown",
   "id": "9de58ab7",
   "metadata": {},
   "source": [
    "#### Random Forest Regressor Model Difference is 98.53 - 97.33 = 1.20\n",
    "\n",
    "#### Lasso Regression Model has the least difference in r2_score so it is the best model"
   ]
  },
  {
   "cell_type": "markdown",
   "id": "65835b57",
   "metadata": {},
   "source": [
    "# Hyper Parameter Tuning"
   ]
  },
  {
   "cell_type": "code",
   "execution_count": 49,
   "id": "c0c168d3",
   "metadata": {},
   "outputs": [
    {
     "data": {
      "text/plain": [
       "GridSearchCV(cv=5, estimator=Lasso(),\n",
       "             param_grid={'alpha': [4.0, 5.0, 6.0, 7.0, 8.0, 10.0],\n",
       "                         'max_iter': [200, 900],\n",
       "                         'random_state': [200, 700, 900],\n",
       "                         'selection': ['cyclic', 'random']})"
      ]
     },
     "execution_count": 49,
     "metadata": {},
     "output_type": "execute_result"
    }
   ],
   "source": [
    "parameters1 = {'alpha': [4.0, 5.0, 6.0, 7.0, 8.0, 10.0],\n",
    "             'random_state': [200, 700, 900],\n",
    "             'max_iter': [200, 900],\n",
    "             'selection': ['cyclic','random']}\n",
    "GCV=GridSearchCV(Lasso(),parameters1,cv=5)\n",
    "GCV.fit(x_train,y_train)"
   ]
  },
  {
   "cell_type": "code",
   "execution_count": 50,
   "id": "0cf3e6ca",
   "metadata": {},
   "outputs": [
    {
     "data": {
      "text/plain": [
       "{'alpha': 4.0, 'max_iter': 200, 'random_state': 200, 'selection': 'cyclic'}"
      ]
     },
     "execution_count": 50,
     "metadata": {},
     "output_type": "execute_result"
    }
   ],
   "source": [
    "GCV.best_params_"
   ]
  },
  {
   "cell_type": "markdown",
   "id": "5b5d7f8c",
   "metadata": {},
   "source": [
    "### Obtaining the Best Parameters for Hyper parameters tuning"
   ]
  },
  {
   "cell_type": "code",
   "execution_count": 51,
   "id": "0239ffa0",
   "metadata": {},
   "outputs": [
    {
     "name": "stdout",
     "output_type": "stream",
     "text": [
      "98.48671779576847\n",
      "0.32158675000000037\n",
      "0.5670861927432199\n"
     ]
    }
   ],
   "source": [
    "mod1=Lasso(alpha=4.0,random_state=200,selection='cyclic',max_iter=200)\n",
    "\n",
    "mod1.fit(x_train,y_train)\n",
    "pred=mod1.predict(x_test)\n",
    "print(r2_score(y_test,predrf)*100)\n",
    "print(mean_squared_error(y_test,predrf))\n",
    "print(np.sqrt(mean_squared_error(y_test,predrf)))"
   ]
  },
  {
   "cell_type": "markdown",
   "id": "1869a420",
   "metadata": {},
   "source": [
    "### Lasso Model r2_score after Hyper parameter Tuning is 98.53%"
   ]
  },
  {
   "cell_type": "markdown",
   "id": "23ed618b",
   "metadata": {},
   "source": [
    "# Save the model"
   ]
  },
  {
   "cell_type": "code",
   "execution_count": 52,
   "id": "89a73f8f",
   "metadata": {
    "scrolled": true
   },
   "outputs": [
    {
     "data": {
      "text/plain": [
       "['Advertising_Sales_Lasso.pkl']"
      ]
     },
     "execution_count": 52,
     "metadata": {},
     "output_type": "execute_result"
    }
   ],
   "source": [
    "import joblib\n",
    "joblib.dump(mod1,\"Advertising_Sales_Lasso.pkl\")"
   ]
  },
  {
   "cell_type": "markdown",
   "id": "7d7dc002",
   "metadata": {},
   "source": [
    "## If you are doing business and you are not into tv advertising, you are losing business. It is the most dependable and traditional way of advertising. TV advertising in siti channel appeals to masses at large."
   ]
  },
  {
   "cell_type": "markdown",
   "id": "c5f2bfb7",
   "metadata": {},
   "source": [
    "![tv](https://miro.medium.com/max/640/1*mO223lvQAQrIIlqJSh496w.jpeg)"
   ]
  }
 ],
 "metadata": {
  "kernelspec": {
   "display_name": "Python 3",
   "language": "python",
   "name": "python3"
  },
  "language_info": {
   "codemirror_mode": {
    "name": "ipython",
    "version": 3
   },
   "file_extension": ".py",
   "mimetype": "text/x-python",
   "name": "python",
   "nbconvert_exporter": "python",
   "pygments_lexer": "ipython3",
   "version": "3.8.8"
  }
 },
 "nbformat": 4,
 "nbformat_minor": 5
}
